{
 "cells": [
  {
   "cell_type": "markdown",
   "id": "438062b4",
   "metadata": {},
   "source": [
    "https://www.youtube.com/watch?v=6GUZXDef2U0&t=2112s&ab_channel=DerekBanas"
   ]
  },
  {
   "cell_type": "markdown",
   "id": "016c6211",
   "metadata": {},
   "source": [
    "# Setup"
   ]
  },
  {
   "cell_type": "code",
   "execution_count": null,
   "id": "f16239e5",
   "metadata": {},
   "outputs": [],
   "source": [
    "import numpy as np\n",
    "import pandas as pd\n",
    "import matplotlib.pyplot as plt\n",
    "import seaborn as sns\n",
    "\n",
    "%matplotlib inline\n",
    "%reload_ext autoreload\n",
    "%autoreload 2"
   ]
  },
  {
   "cell_type": "markdown",
   "id": "93050709",
   "metadata": {},
   "source": [
    "# Loading Dataset"
   ]
  },
  {
   "cell_type": "code",
   "execution_count": null,
   "id": "d4497e4c",
   "metadata": {},
   "outputs": [],
   "source": [
    "print(sns.get_dataset_names())"
   ]
  },
  {
   "cell_type": "code",
   "execution_count": null,
   "id": "08df7dd6",
   "metadata": {},
   "outputs": [],
   "source": [
    "crash_df=sns.load_dataset('car_crashes')\n",
    "crash_df.head()"
   ]
  },
  {
   "cell_type": "code",
   "execution_count": null,
   "id": "c82da2f7",
   "metadata": {},
   "outputs": [],
   "source": [
    "df=crash_df.copy()"
   ]
  },
  {
   "cell_type": "markdown",
   "id": "f1775ed6",
   "metadata": {},
   "source": [
    "# 1. Univeriate Distribution Plots\n",
    "\n",
    "Flexibly plot a univariate distribution of observations."
   ]
  },
  {
   "cell_type": "markdown",
   "id": "162fb25d",
   "metadata": {},
   "source": [
    "## 1.1 Distribution Plot"
   ]
  },
  {
   "cell_type": "code",
   "execution_count": null,
   "id": "1b6e7a19",
   "metadata": {},
   "outputs": [],
   "source": [
    "sns.distplot(df['not_distracted'])"
   ]
  },
  {
   "cell_type": "code",
   "execution_count": null,
   "id": "8f31f784",
   "metadata": {},
   "outputs": [],
   "source": [
    "sns.distplot(df['not_distracted'],kde=False)"
   ]
  },
  {
   "cell_type": "code",
   "execution_count": null,
   "id": "4402a475",
   "metadata": {},
   "outputs": [],
   "source": [
    "sns.distplot(df['not_distracted'],kde=False, bins=25)"
   ]
  },
  {
   "cell_type": "markdown",
   "id": "0879bb36",
   "metadata": {},
   "source": [
    "## 1.2 Joint Plot\n",
    "\n",
    "this is a two distribution plot\n",
    "Draw a plot of two variables with bivariate and univariate graphs."
   ]
  },
  {
   "cell_type": "code",
   "execution_count": null,
   "id": "1d887eee",
   "metadata": {},
   "outputs": [],
   "source": [
    "sns.jointplot(x='speeding',y='alcohol',data=df,kind='reg')"
   ]
  },
  {
   "cell_type": "code",
   "execution_count": null,
   "id": "8639063c",
   "metadata": {},
   "outputs": [],
   "source": [
    "sns.jointplot(x='speeding',y='alcohol',data=df,kind='kde')"
   ]
  },
  {
   "cell_type": "code",
   "execution_count": null,
   "id": "53831bdf",
   "metadata": {},
   "outputs": [],
   "source": [
    "sns.jointplot(x='speeding',y='alcohol',data=df,kind='hex')"
   ]
  },
  {
   "cell_type": "code",
   "execution_count": null,
   "id": "041b1a20",
   "metadata": {},
   "outputs": [],
   "source": [
    "sns.jointplot(x='speeding',y='alcohol',data=df,kind='scatter')"
   ]
  },
  {
   "cell_type": "code",
   "execution_count": null,
   "id": "2b2e1456",
   "metadata": {},
   "outputs": [],
   "source": [
    "sns.jointplot(x='speeding',y='alcohol',data=df,kind='resid')"
   ]
  },
  {
   "cell_type": "markdown",
   "id": "9cebd4fb",
   "metadata": {},
   "source": [
    "## 1.3 KDE Plot\n",
    "\n",
    "Plot univariate or bivariate distributions using kernel density estimation."
   ]
  },
  {
   "cell_type": "code",
   "execution_count": null,
   "id": "cd9d0fda",
   "metadata": {},
   "outputs": [],
   "source": [
    "sns.kdeplot(df['alcohol'])"
   ]
  },
  {
   "cell_type": "markdown",
   "id": "0cbeab7a",
   "metadata": {},
   "source": [
    "## 1.4 Pair Plots\n",
    "\n",
    "relationship between entire numerical values\n",
    "Plot pairwise relationships in a dataset.\n",
    "kind : {'scatter', 'kde', 'hist', 'reg'}"
   ]
  },
  {
   "cell_type": "code",
   "execution_count": null,
   "id": "e00e2ff8",
   "metadata": {},
   "outputs": [],
   "source": [
    "sns.pairplot(df)"
   ]
  },
  {
   "cell_type": "code",
   "execution_count": null,
   "id": "eadcb576",
   "metadata": {},
   "outputs": [],
   "source": [
    "tips_df=sns.load_dataset('tips')\n",
    "tips_df"
   ]
  },
  {
   "cell_type": "code",
   "execution_count": null,
   "id": "b3e16dfd",
   "metadata": {},
   "outputs": [],
   "source": [
    "sns.pairplot(tips_df,hue='sex',palette='Blues')"
   ]
  },
  {
   "cell_type": "markdown",
   "id": "77e53476",
   "metadata": {},
   "source": [
    "## 1.4 Rug Plot\n",
    "\n",
    "Plot marginal distributions by drawing ticks along the x and y axes."
   ]
  },
  {
   "cell_type": "code",
   "execution_count": null,
   "id": "4ac67d27",
   "metadata": {},
   "outputs": [],
   "source": [
    "sns.rugplot(tips_df['tip'])"
   ]
  },
  {
   "cell_type": "markdown",
   "id": "23406f1a",
   "metadata": {},
   "source": [
    "## 1.4 Styling\n",
    "\n",
    "Set the parameters that control the general style of the plots.\n",
    "style : dict, or one of {darkgrid, whitegrid, dark, white, ticks}\n",
    "    A dictionary of parameters or the name of a preconfigured style.\n",
    "rc : dict, optional"
   ]
  },
  {
   "cell_type": "code",
   "execution_count": null,
   "id": "5e73ced8",
   "metadata": {},
   "outputs": [],
   "source": [
    "sns.set_style('white')\n",
    "plt.figure(figsize=(8,4))\n",
    "sns.set_context('paper', font_scale=1.5)\n",
    "\n",
    "sns.jointplot(x='speeding',y='alcohol',data=df,kind='reg')\n",
    "\n",
    "sns.despine(left=True, bottom=True)"
   ]
  },
  {
   "cell_type": "code",
   "execution_count": null,
   "id": "5532252a",
   "metadata": {},
   "outputs": [],
   "source": []
  },
  {
   "cell_type": "markdown",
   "id": "8a96069a",
   "metadata": {},
   "source": [
    "# 2. Categorical Plots"
   ]
  },
  {
   "cell_type": "markdown",
   "id": "498bea12",
   "metadata": {},
   "source": [
    "## 2.1 Bar Plots"
   ]
  },
  {
   "cell_type": "code",
   "execution_count": null,
   "id": "346d73f5",
   "metadata": {},
   "outputs": [],
   "source": [
    "sns.barplot(x='sex',y='total_bill',data=tips_df)"
   ]
  },
  {
   "cell_type": "code",
   "execution_count": null,
   "id": "f287b981",
   "metadata": {},
   "outputs": [],
   "source": [
    "sns.barplot(x='sex',y='total_bill',data=tips_df,estimator=np.median)"
   ]
  },
  {
   "cell_type": "code",
   "execution_count": null,
   "id": "bf81da06",
   "metadata": {},
   "outputs": [],
   "source": [
    "sns.barplot(x='sex',y='total_bill',data=tips_df,estimator=np.std)"
   ]
  },
  {
   "cell_type": "code",
   "execution_count": null,
   "id": "78802d45",
   "metadata": {},
   "outputs": [],
   "source": [
    "sns.barplot(x='sex',y='total_bill',data=tips_df,estimator=np.cov)"
   ]
  },
  {
   "cell_type": "markdown",
   "id": "09ce80db",
   "metadata": {},
   "source": [
    "## 2.2 Count Plot"
   ]
  },
  {
   "cell_type": "code",
   "execution_count": null,
   "id": "a1da24fb",
   "metadata": {},
   "outputs": [],
   "source": [
    "sns.countplot(x='sex',data=tips_df)"
   ]
  },
  {
   "cell_type": "markdown",
   "id": "8e327c2b",
   "metadata": {},
   "source": [
    "## 2.3 Box Plot"
   ]
  },
  {
   "cell_type": "code",
   "execution_count": null,
   "id": "348c7c7c",
   "metadata": {},
   "outputs": [],
   "source": [
    "sns.boxplot(x='day',y='total_bill',data=tips_df,hue='sex')\n",
    "\n",
    "plt.legend(loc=0)"
   ]
  },
  {
   "cell_type": "markdown",
   "id": "62e3335e",
   "metadata": {},
   "source": [
    "## 2.4 Violin Plot\n",
    "\n",
    "Combination of boxplot and kde plot"
   ]
  },
  {
   "cell_type": "code",
   "execution_count": null,
   "id": "bc867f7b",
   "metadata": {},
   "outputs": [],
   "source": [
    "sns.violinplot(x='day',y='total_bill',data=tips_df,hue='sex')"
   ]
  },
  {
   "cell_type": "code",
   "execution_count": null,
   "id": "d5985ab7",
   "metadata": {},
   "outputs": [],
   "source": [
    "sns.violinplot(x='day',y='total_bill',data=tips_df,hue='sex',split=True)"
   ]
  },
  {
   "cell_type": "markdown",
   "id": "85bbe0c9",
   "metadata": {},
   "source": [
    "## 2.5 Strip Plot"
   ]
  },
  {
   "cell_type": "code",
   "execution_count": null,
   "id": "6fbfc958",
   "metadata": {},
   "outputs": [],
   "source": [
    "plt.figure(figsize=(8,5))\n",
    "\n",
    "sns.stripplot(x='day',y='total_bill',data=tips_df)"
   ]
  },
  {
   "cell_type": "code",
   "execution_count": null,
   "id": "38dec3cd",
   "metadata": {},
   "outputs": [],
   "source": [
    "plt.figure(figsize=(8,5))\n",
    "\n",
    "sns.stripplot(x='day',y='total_bill',data=tips_df,jitter=True)"
   ]
  },
  {
   "cell_type": "code",
   "execution_count": null,
   "id": "5f0afca1",
   "metadata": {},
   "outputs": [],
   "source": [
    "plt.figure(figsize=(8,5))\n",
    "\n",
    "sns.stripplot(x='day',y='total_bill',data=tips_df,jitter=True,hue='sex')"
   ]
  },
  {
   "cell_type": "code",
   "execution_count": null,
   "id": "421f368d",
   "metadata": {},
   "outputs": [],
   "source": [
    "plt.figure(figsize=(8,5))\n",
    "\n",
    "sns.stripplot(x='day',y='total_bill',data=tips_df,jitter=True,hue='sex',dodge=True)"
   ]
  },
  {
   "cell_type": "markdown",
   "id": "efeb2a82",
   "metadata": {},
   "source": [
    "## 2.6 Swarm Plot"
   ]
  },
  {
   "cell_type": "code",
   "execution_count": null,
   "id": "4226e27b",
   "metadata": {},
   "outputs": [],
   "source": [
    "sns.violinplot(x='day',y='total_bill',data=tips_df)\n",
    "sns.swarmplot(x='day',y='total_bill',data=tips_df,color='white')"
   ]
  },
  {
   "cell_type": "markdown",
   "id": "0dcf6c39",
   "metadata": {},
   "source": [
    "## 2.7 Palettes"
   ]
  },
  {
   "cell_type": "code",
   "execution_count": null,
   "id": "e9f516e3",
   "metadata": {},
   "outputs": [],
   "source": [
    "plt.figure(figsize=(9,4))\n",
    "sns.set_style('white')\n",
    "sns.set_context('talk')\n",
    "sns.stripplot(x='day',y='total_bill',data=tips_df, hue='sex',palette='afmhot')\n",
    "plt.legend(loc=0)\n",
    "\n",
    "#legnd:\n",
    "#upper right:1, upper left:2, lower left:3, lower right: 4\n",
    "#matplotlib.org/3.3.1/api/_as_gen/matplotlib.pyplot.legend.html\n",
    "#matplotlib.org/3.3.1/tutorials/colors/colormaps.html"
   ]
  },
  {
   "cell_type": "markdown",
   "id": "4584006c",
   "metadata": {},
   "source": [
    "## 2.8 Matrix Plots"
   ]
  },
  {
   "cell_type": "code",
   "execution_count": null,
   "id": "397ecaef",
   "metadata": {},
   "outputs": [],
   "source": [
    "#using pvotstable\n",
    "\n",
    "flights=sns.load_dataset('flights')\n",
    "flights=flights.pivot_table(index='month',columns='year',values='passengers')\n",
    "flights"
   ]
  },
  {
   "cell_type": "code",
   "execution_count": null,
   "id": "7dc03037",
   "metadata": {},
   "outputs": [],
   "source": [
    "sns.heatmap(flights,cmap='Blues')"
   ]
  },
  {
   "cell_type": "code",
   "execution_count": null,
   "id": "4c8aebba",
   "metadata": {},
   "outputs": [],
   "source": [
    "sns.heatmap(flights,cmap='Blues',linecolor='white',linewidth=1)"
   ]
  },
  {
   "cell_type": "markdown",
   "id": "fad0f9a8",
   "metadata": {},
   "source": [
    "## 2.9 Heatmaps"
   ]
  },
  {
   "cell_type": "code",
   "execution_count": null,
   "id": "fe665e73",
   "metadata": {},
   "outputs": [],
   "source": [
    "plt.figure(figsize=(8,6))\n",
    "sns.set_context('paper',font_scale=1.4)\n",
    "\n",
    "df_matrix=df.corr()\n",
    "df_matrix"
   ]
  },
  {
   "cell_type": "code",
   "execution_count": null,
   "id": "508f4b25",
   "metadata": {},
   "outputs": [],
   "source": [
    "sns.heatmap(df_matrix, annot=True,cmap='Blues')"
   ]
  },
  {
   "cell_type": "markdown",
   "id": "400a145b",
   "metadata": {},
   "source": [
    "# 3. Cluster Map"
   ]
  },
  {
   "cell_type": "code",
   "execution_count": null,
   "id": "d3cf2086",
   "metadata": {},
   "outputs": [],
   "source": [
    "iris=sns.load_dataset('iris')\n",
    "\n",
    "iris"
   ]
  },
  {
   "cell_type": "code",
   "execution_count": null,
   "id": "ffd25ee8",
   "metadata": {},
   "outputs": [],
   "source": [
    "#species=iris.pop('species')\n",
    "sns.clustermap(iris)"
   ]
  },
  {
   "cell_type": "code",
   "execution_count": null,
   "id": "67a6b86c",
   "metadata": {},
   "outputs": [],
   "source": [
    "sns.clustermap(flights,cmap='Blues',standard_scale=1)"
   ]
  },
  {
   "cell_type": "markdown",
   "id": "c60d3977",
   "metadata": {},
   "source": [
    "# 4. PairGrid"
   ]
  },
  {
   "cell_type": "code",
   "execution_count": null,
   "id": "8cbfbd1b",
   "metadata": {},
   "outputs": [],
   "source": [
    "iris=sns.load_dataset('iris')\n",
    "iris_g=sns.PairGrid(iris,hue='species')\n",
    "iris_g.map(plt.scatter)"
   ]
  },
  {
   "cell_type": "code",
   "execution_count": null,
   "id": "0a821305",
   "metadata": {},
   "outputs": [],
   "source": [
    "iris_g=sns.PairGrid(iris,hue='species')\n",
    "iris_g.map(plt.scatter)\n",
    "iris_g.map_diag(plt.hist)"
   ]
  },
  {
   "cell_type": "code",
   "execution_count": null,
   "id": "00048eb9",
   "metadata": {},
   "outputs": [],
   "source": [
    "iris_g=sns.PairGrid(iris,hue='species')\n",
    "#iris_g.map(plt.scatter)\n",
    "iris_g.map_diag(plt.hist)\n",
    "iris_g.map_offdiag(plt.scatter)"
   ]
  },
  {
   "cell_type": "code",
   "execution_count": null,
   "id": "dd8d4129",
   "metadata": {},
   "outputs": [],
   "source": [
    "iris=sns.load_dataset('iris')\n",
    "iris_g=sns.PairGrid(iris,hue='species')\n",
    "#iris_g.map(plt.scatter)\n",
    "iris_g.map_diag(plt.hist)\n",
    "#iris_g.map_offdiag(plt.scatter)\n",
    "iris_g.map_upper(plt.scatter)\n",
    "iris_g.map_lower(sns.kdeplot)"
   ]
  },
  {
   "cell_type": "code",
   "execution_count": null,
   "id": "80cc0f4f",
   "metadata": {},
   "outputs": [],
   "source": [
    "iris=sns.load_dataset('iris')\n",
    "#iris_g=sns.PairGrid(iris,hue='species')\n",
    "#iris_g.map(plt.scatter)\n",
    "# iris_g.map_diag(plt.hist)\n",
    "#iris_g.map_offdiag(plt.scatter)\n",
    "# iris_g.map_upper(plt.scatter)\n",
    "# iris_g.map_lower(sns.kdeplot)\n",
    "\n",
    "iris_g=sns.PairGrid(iris,hue='species',\n",
    "                   x_vars=['sepal_length','sepal_width'],\n",
    "                   y_vars=['petal_length','petal_width'])\n",
    "iris_g.map(plt.scatter)\n",
    "iris_g.add_legend()"
   ]
  },
  {
   "cell_type": "markdown",
   "id": "c9f6dfac",
   "metadata": {},
   "source": [
    "# 5. Facet Grid"
   ]
  },
  {
   "cell_type": "code",
   "execution_count": null,
   "id": "c694cc52",
   "metadata": {},
   "outputs": [],
   "source": [
    "tips_fg=sns.FacetGrid(tips_df,col='time',row='smoker')\n",
    "tips_fg.map(plt.hist,'total_bill',bins=8)"
   ]
  },
  {
   "cell_type": "code",
   "execution_count": null,
   "id": "35b4ed24",
   "metadata": {},
   "outputs": [],
   "source": [
    "tips_fg=sns.FacetGrid(tips_df,col='time',row='smoker')\n",
    "tips_fg.map(plt.scatter,'total_bill','tip')"
   ]
  },
  {
   "cell_type": "code",
   "execution_count": null,
   "id": "fef5f7ce",
   "metadata": {},
   "outputs": [],
   "source": [
    "tips_fg=sns.FacetGrid(tips_df,col='time',hue='smoker',height=4,aspect=1.3, col_order=[\"Dinner\",\"Lunch\"],palette='Set1')\n",
    "tips_fg.map(plt.scatter,'total_bill','tip',edgecolor='w')"
   ]
  },
  {
   "cell_type": "code",
   "execution_count": null,
   "id": "1e992a25",
   "metadata": {},
   "outputs": [],
   "source": [
    "kws=dict(s=50,linewidth=0.5,edgecolor='w')\n",
    "tips_fg=sns.FacetGrid(tips_df,col='sex',hue='smoker',height=4, aspect=1.3, hue_order=['Yes','No'],\n",
    "                      hue_kws=dict(marker=['^','v']))\n",
    "tips_fg.map(plt.scatter,'total_bill','tip',**kws)"
   ]
  },
  {
   "cell_type": "code",
   "execution_count": null,
   "id": "e59328cc",
   "metadata": {},
   "outputs": [],
   "source": [
    "att_df=sns.load_dataset('attention')\n",
    "att_fg=sns.FacetGrid(att_df,col='subject',col_wrap=5,height=1.5)\n",
    "att_fg.map(plt.plot,'solutions','score',marker='.')"
   ]
  },
  {
   "cell_type": "markdown",
   "id": "707c6b4b",
   "metadata": {},
   "source": [
    "# Regression Plot"
   ]
  },
  {
   "cell_type": "code",
   "execution_count": null,
   "id": "9287badf",
   "metadata": {},
   "outputs": [],
   "source": [
    "tips_df.head()"
   ]
  },
  {
   "cell_type": "code",
   "execution_count": null,
   "id": "90110b9a",
   "metadata": {},
   "outputs": [],
   "source": [
    "plt.figure(figsize=(8,6))\n",
    "sns.set_context('paper',font_scale=1.4)\n",
    "sns.lmplot(x='total_bill',y='tip',hue='sex',data=tips_df,markers=['o','^'],\n",
    "          scatter_kws={'s':100,'linewidth':0.5,'edgecolor':'w'})"
   ]
  },
  {
   "cell_type": "code",
   "execution_count": null,
   "id": "f9b17c69",
   "metadata": {},
   "outputs": [],
   "source": [
    "sns.lmplot(x='total_bill',y='tip',col='sex',row='time',data=tips_df)\n",
    "sns.set_context('paper',font_scale=1.4)"
   ]
  },
  {
   "cell_type": "code",
   "execution_count": null,
   "id": "6f66d4fb",
   "metadata": {},
   "outputs": [],
   "source": [
    "sns.lmplot(x='total_bill',y='tip',col='sex',row='time',data=tips_df, height=8, aspect=0.6)\n",
    "sns.set_context('paper',font_scale=1.4)"
   ]
  },
  {
   "cell_type": "code",
   "execution_count": null,
   "id": "5b8e4f3e",
   "metadata": {},
   "outputs": [],
   "source": []
  }
 ],
 "metadata": {
  "kernelspec": {
   "display_name": "Python 3.9 (tensorflow)",
   "language": "python",
   "name": "tensorflow"
  },
  "language_info": {
   "codemirror_mode": {
    "name": "ipython",
    "version": 3
   },
   "file_extension": ".py",
   "mimetype": "text/x-python",
   "name": "python",
   "nbconvert_exporter": "python",
   "pygments_lexer": "ipython3",
   "version": "3.9.7"
  }
 },
 "nbformat": 4,
 "nbformat_minor": 5
}
